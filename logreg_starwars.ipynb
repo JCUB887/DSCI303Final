{
  "nbformat": 4,
  "nbformat_minor": 0,
  "metadata": {
    "colab": {
      "provenance": []
    },
    "kernelspec": {
      "name": "python3",
      "display_name": "Python 3"
    },
    "language_info": {
      "name": "python"
    }
  },
  "cells": [
    {
      "cell_type": "code",
      "execution_count": null,
      "metadata": {
        "id": "XBaWE9beQRB-"
      },
      "outputs": [],
      "source": [
        "import pandas as pd\n",
        "import seaborn as sn\n",
        "import numpy as np\n",
        "\n",
        "#preprocessing block\n",
        "\n",
        "opinions = pd.read_csv(\"StarWarsOpinions.csv\", encoding='latin1')\n",
        "first_qs = opinions.columns.to_list()\n",
        "second_qs = opinions.iloc[0].values\n",
        "\n",
        "new_headers = [\"RespondentID\", \"seen_any_films\", \"is_fan\", \"seen_1\", \"seen_2\", \"seen_3\", \"seen_4\", \"seen_5\", \"seen_6\", \\\n",
        "               \"pref_1\", \"pref_2\", \"pref_3\", \"pref_4\", \"pref_5\", \"pref_6\", \"han_solo\", \"luke_skywalker\", \"leia_organa\", \\\n",
        "               \"anakin_skywalker\", \"obi_wan_kenobi\", \"palpatine\", \"darth_vader\", \"lando_calrissian\", \"boba_fett\", \"c3po\",\\\n",
        "               \"r2d2\", \"jar_jar\", \"padme_amidala\", \"yoda\", \"shot_first\", \"expanded_universe\", \"expanded_univ_is_fan\", \"star_trek_is_fan\", \\\n",
        "               \"gender\", \"age\", \"income\", \"education\", \"location\"]\n",
        "\n",
        "opinions.columns = new_headers\n",
        "opinions = opinions.drop(0)\n",
        "opinions = opinions.drop(['seen_any_films', \"expanded_univ_is_fan\", \"RespondentID\"], axis=1)\n",
        "opinions[\"seen_1\"] = opinions[\"seen_1\"].fillna(0)\n",
        "opinions[\"seen_1\"] = (opinions[\"seen_1\"] != 0).astype(int)\n",
        "\n",
        "opinions[\"seen_2\"] = opinions[\"seen_2\"].fillna(0)\n",
        "opinions[\"seen_2\"] = (opinions[\"seen_2\"] != 0).astype(int)\n",
        "\n",
        "opinions[\"seen_3\"] = opinions[\"seen_3\"].fillna(0)\n",
        "opinions[\"seen_3\"] = (opinions[\"seen_3\"] != 0).astype(int)\n",
        "\n",
        "opinions[\"seen_4\"] = opinions[\"seen_4\"].fillna(0)\n",
        "opinions[\"seen_4\"] = (opinions[\"seen_4\"] != 0).astype(int)\n",
        "\n",
        "opinions[\"seen_5\"] = opinions[\"seen_5\"].fillna(0)\n",
        "opinions[\"seen_5\"] = (opinions[\"seen_5\"] != 0).astype(int)\n",
        "\n",
        "opinions[\"seen_6\"] = opinions[\"seen_6\"].fillna(0)\n",
        "opinions[\"seen_6\"] = (opinions[\"seen_6\"] != 0).astype(int)\n",
        "df_filtered = opinions.dropna(subset=['is_fan','income','gender','age','education','location','pref_1','pref_3'])\n",
        "\n",
        "# Maps the categorical favorability to a numeric value 1-5\n",
        "custom_mapping = {'Very favorably': 5, 'Somewhat favorably': 4, \\\n",
        "                  'Neither favorably nor unfavorably (neutral)': 3, \\\n",
        "                  'Somewhat unfavorably': 2, 'Very unfavorably': 1, \\\n",
        "                  'Unfamiliar (N/A)': 3}\n",
        "\n",
        "# Use replace to map categories to numbers\n",
        "df_filtered['han_solo'] = df_filtered['han_solo'].replace(custom_mapping).fillna(3)\n",
        "df_filtered['luke_skywalker'] = df_filtered['luke_skywalker'].replace(custom_mapping).fillna(3)\n",
        "df_filtered['leia_organa'] = df_filtered['leia_organa'].replace(custom_mapping).fillna(3)\n",
        "df_filtered['anakin_skywalker'] = df_filtered['anakin_skywalker'].replace(custom_mapping).fillna(3)\n",
        "df_filtered['obi_wan_kenobi'] = df_filtered['obi_wan_kenobi'].replace(custom_mapping).fillna(3)\n",
        "df_filtered['palpatine'] = df_filtered['palpatine'].replace(custom_mapping).fillna(3)\n",
        "df_filtered['darth_vader'] = df_filtered['darth_vader'].replace(custom_mapping).fillna(3)\n",
        "df_filtered['lando_calrissian'] = df_filtered['lando_calrissian'].replace(custom_mapping).fillna(3)\n",
        "df_filtered['boba_fett'] = df_filtered['boba_fett'].replace(custom_mapping).fillna(3)\n",
        "df_filtered['c3po'] = df_filtered['c3po'].replace(custom_mapping).fillna(3)\n",
        "df_filtered['r2d2'] = df_filtered['r2d2'].replace(custom_mapping).fillna(3)\n",
        "df_filtered['jar_jar'] = df_filtered['jar_jar'].replace(custom_mapping).fillna(3)\n",
        "df_filtered['padme_amidala'] = df_filtered['padme_amidala'].replace(custom_mapping).fillna(3)\n",
        "df_filtered['yoda'] = df_filtered['yoda'].replace(custom_mapping).fillna(3)\n",
        "df_filtered[df_filtered['pref_1'].isna()]\n",
        "\n",
        "import numpy as np\n",
        "yes_no_mapping = {'Yes':1, 'No':0}\n",
        "shot_first_mapping = {'Han':2, 'Greedo':1, \"I don't understand this question\":0}\n",
        "gender_mapping = {'Male':0, 'Female':1}\n",
        "age_mapping = {'18-29':0,'30-44':1,'45-60':2, '> 60':3}\n",
        "income_mapping = {'$0 - $24,999':0, '$100,000 - $149,999':4, '$150,000+':5,\n",
        "       '$25,000 - $49,999':1, '$50,000 - $99,999':3}\n",
        "education_mapping = {'Bachelor degree':3, 'Graduate degree':4, 'High school degree':1,\n",
        "       'Less than high school degree':0, 'Some college or Associate degree':2}\n",
        "location_mapping = {'East North Central':0, 'East South Central':1, 'Middle Atlantic':2,\n",
        "       'Mountain':3, 'New England':4, 'Pacific':5, 'South Atlantic':6,\n",
        "       'West North Central':7, 'West South Central':8}\n",
        "\n",
        "#np.unique(df_filtered['age'])\n",
        "\n",
        "\n",
        "df_filtered['is_fan'] = df_filtered['is_fan'].replace(yes_no_mapping)\n",
        "df_filtered['expanded_universe'] = df_filtered['expanded_universe'].replace(yes_no_mapping)\n",
        "df_filtered['star_trek_is_fan'] = df_filtered['star_trek_is_fan'].replace(yes_no_mapping)\n",
        "df_filtered['shot_first'] = df_filtered['shot_first'].replace(shot_first_mapping)\n",
        "df_filtered['gender'] = df_filtered['gender'].replace(gender_mapping)\n",
        "df_filtered['age'] = df_filtered['age'].replace(age_mapping)\n",
        "df_filtered['income'] = df_filtered['income'].replace(income_mapping)\n",
        "df_filtered['education'] = df_filtered['education'].replace(education_mapping)\n",
        "df_filtered['location'] = df_filtered['location'].replace(location_mapping)\n",
        "#np.unique(df_filtered['location'])\n"
      ]
    },
    {
      "cell_type": "code",
      "source": [
        "import matplotlib.pyplot as plt\n",
        "import numpy as np\n",
        "\n",
        "from sklearn import datasets, linear_model\n",
        "from sklearn.metrics import mean_squared_error, r2_score\n",
        "from sklearn.model_selection import train_test_split\n",
        "\n",
        "# base predicition of off one character's ratings\n",
        "y = df_filtered['yoda'] # only the character column\n",
        "X = df_filtered.drop(['yoda'], axis=1) #exclude the character column\n",
        "X_train, X_test, y_train, y_test = train_test_split(X, y, test_size=0.2)"
      ],
      "metadata": {
        "id": "0_bkEBNpRLgt"
      },
      "execution_count": null,
      "outputs": []
    },
    {
      "cell_type": "code",
      "source": [
        "# Create linear regression object\n",
        "regr = linear_model.LinearRegression()\n",
        "regr.fit(X_train, y_train)\n",
        "y_pred = regr.predict(X_test)\n",
        "\n",
        "# The coefficients\n",
        "print(\"Coefficients: \\n\", regr.coef_)\n",
        "# The mean squared error\n",
        "print(\"Mean squared error: %.2f\" % mean_squared_error(y_test, y_pred))\n",
        "# The coefficient of determination: 1 is perfect prediction\n",
        "print(\"Coefficient of determination: %.2f\" % r2_score(y_test, y_pred))"
      ],
      "metadata": {
        "colab": {
          "base_uri": "https://localhost:8080/"
        },
        "id": "ysmU3o8nR-Q0",
        "outputId": "db9dee24-8bc1-49a5-da23-c74a8f6423ea"
      },
      "execution_count": null,
      "outputs": [
        {
          "output_type": "stream",
          "name": "stdout",
          "text": [
            "Coefficients: \n",
            " [ 9.16230270e-02  1.35698551e-01 -1.46995965e-01  1.92161973e-01\n",
            "  6.98082778e-02  2.29970434e-02 -2.65437338e-02 -3.56064237e-02\n",
            "  2.78234532e-02  1.67280714e-02  1.34627860e-02 -1.77410014e-04\n",
            " -2.22304768e-02  8.37997915e-02  6.39841695e-02  1.42680525e-01\n",
            " -1.54988182e-02  2.07647739e-01 -3.13491065e-02 -5.03328183e-03\n",
            "  3.67767885e-02 -1.92548982e-02  7.98624461e-02  1.51645331e-01\n",
            " -4.72004102e-03  1.03111315e-01  3.82483028e-02 -9.01245159e-02\n",
            "  1.21789669e-02  6.54084399e-02 -4.41353056e-02 -7.45683402e-03\n",
            "  8.71832018e-03 -1.54667227e-02]\n",
            "Mean squared error: 0.30\n",
            "Coefficient of determination: 0.30\n"
          ]
        }
      ]
    },
    {
      "cell_type": "code",
      "source": [
        "# try logistic regression\n",
        "from sklearn.linear_model import LogisticRegression\n",
        "from sklearn import metrics\n",
        "logreg = LogisticRegression()\n",
        "logreg.fit(X_train, y_train)\n",
        "y_pred_logreg = logreg.predict(X_test)\n",
        "from sklearn.metrics import classification_report\n",
        "target_names = ['2', '3', '4', '5']\n",
        "print(classification_report(y_test, y_pred_logreg, target_names=target_names))"
      ],
      "metadata": {
        "colab": {
          "base_uri": "https://localhost:8080/"
        },
        "id": "g5XbO_mKYLs2",
        "outputId": "090ba7ee-ef95-4c8a-ec30-7a3879f8514b"
      },
      "execution_count": null,
      "outputs": [
        {
          "output_type": "stream",
          "name": "stdout",
          "text": [
            "              precision    recall  f1-score   support\n",
            "\n",
            "           2       0.00      0.00      0.00         1\n",
            "           3       0.38      0.30      0.33        10\n",
            "           4       0.44      0.23      0.30        30\n",
            "           5       0.78      0.92      0.85        93\n",
            "\n",
            "    accuracy                           0.72       134\n",
            "   macro avg       0.40      0.36      0.37       134\n",
            "weighted avg       0.67      0.72      0.68       134\n",
            "\n"
          ]
        },
        {
          "output_type": "stream",
          "name": "stderr",
          "text": [
            "/usr/local/lib/python3.10/dist-packages/sklearn/linear_model/_logistic.py:458: ConvergenceWarning: lbfgs failed to converge (status=1):\n",
            "STOP: TOTAL NO. of ITERATIONS REACHED LIMIT.\n",
            "\n",
            "Increase the number of iterations (max_iter) or scale the data as shown in:\n",
            "    https://scikit-learn.org/stable/modules/preprocessing.html\n",
            "Please also refer to the documentation for alternative solver options:\n",
            "    https://scikit-learn.org/stable/modules/linear_model.html#logistic-regression\n",
            "  n_iter_i = _check_optimize_result(\n",
            "/usr/local/lib/python3.10/dist-packages/sklearn/metrics/_classification.py:1344: UndefinedMetricWarning: Precision and F-score are ill-defined and being set to 0.0 in labels with no predicted samples. Use `zero_division` parameter to control this behavior.\n",
            "  _warn_prf(average, modifier, msg_start, len(result))\n",
            "/usr/local/lib/python3.10/dist-packages/sklearn/metrics/_classification.py:1344: UndefinedMetricWarning: Precision and F-score are ill-defined and being set to 0.0 in labels with no predicted samples. Use `zero_division` parameter to control this behavior.\n",
            "  _warn_prf(average, modifier, msg_start, len(result))\n",
            "/usr/local/lib/python3.10/dist-packages/sklearn/metrics/_classification.py:1344: UndefinedMetricWarning: Precision and F-score are ill-defined and being set to 0.0 in labels with no predicted samples. Use `zero_division` parameter to control this behavior.\n",
            "  _warn_prf(average, modifier, msg_start, len(result))\n"
          ]
        }
      ]
    },
    {
      "cell_type": "code",
      "source": [
        "print(X[\"han_solo\"].shape, X[\"leia_organa\"].shape, y.shape)"
      ],
      "metadata": {
        "colab": {
          "base_uri": "https://localhost:8080/"
        },
        "id": "LY9tkOVN_EO2",
        "outputId": "30d5706b-2e03-4fd6-8142-f302dc1a7a4f"
      },
      "execution_count": null,
      "outputs": [
        {
          "output_type": "stream",
          "name": "stdout",
          "text": [
            "(670,) (670,) (670,)\n"
          ]
        }
      ]
    },
    {
      "cell_type": "code",
      "source": [
        "import matplotlib.pyplot as plt\n",
        "import numpy as np\n",
        "from sklearn.linear_model import LogisticRegression\n",
        "from sklearn.datasets import load_iris\n",
        "\n",
        "# Plot the decision boundary\n",
        "plt.scatter(X[\"han_solo\"], X[\"leia_organa\"], c=y, cmap=plt.cm.Paired, edgecolors='k')\n",
        "\n",
        "# Generate decision boundary\n",
        "x_min, x_max = X[\"han_solo\"].min() - 1, X[\"han_solo\"].max() + 1\n",
        "y_min, y_max = X[\"leia_organa\"].min() - 1, X[\"leia_organa\"].max() + 1\n",
        "xx, yy = np.meshgrid(np.arange(x_min, x_max, 0.01), np.arange(y_min, y_max, 0.01))\n",
        "Z = logreg.predict(np.c_[xx.ravel(), yy.ravel()])\n",
        "Z = Z.reshape(xx.shape)\n",
        "plt.contourf(xx, yy, Z, alpha=0.3, cmap=plt.cm.Paired)\n",
        "plt.xlabel('Feature 1')\n",
        "plt.ylabel('Feature 2')\n",
        "plt.title('Logistic Regression Decision Boundary (2D)')\n",
        "plt.show()"
      ],
      "metadata": {
        "colab": {
          "base_uri": "https://localhost:8080/",
          "height": 868
        },
        "id": "iNjk6D1y-Bu0",
        "outputId": "4dccac89-d272-4bb4-c7bf-4f19358391f3"
      },
      "execution_count": null,
      "outputs": [
        {
          "output_type": "stream",
          "name": "stderr",
          "text": [
            "/usr/local/lib/python3.10/dist-packages/sklearn/base.py:439: UserWarning: X does not have valid feature names, but LogisticRegression was fitted with feature names\n",
            "  warnings.warn(\n"
          ]
        },
        {
          "output_type": "error",
          "ename": "ValueError",
          "evalue": "ignored",
          "traceback": [
            "\u001b[0;31m---------------------------------------------------------------------------\u001b[0m",
            "\u001b[0;31mValueError\u001b[0m                                Traceback (most recent call last)",
            "\u001b[0;32m<ipython-input-11-8e6ca811f903>\u001b[0m in \u001b[0;36m<cell line: 13>\u001b[0;34m()\u001b[0m\n\u001b[1;32m     11\u001b[0m \u001b[0my_min\u001b[0m\u001b[0;34m,\u001b[0m \u001b[0my_max\u001b[0m \u001b[0;34m=\u001b[0m \u001b[0mX\u001b[0m\u001b[0;34m[\u001b[0m\u001b[0;34m\"leia_organa\"\u001b[0m\u001b[0;34m]\u001b[0m\u001b[0;34m.\u001b[0m\u001b[0mmin\u001b[0m\u001b[0;34m(\u001b[0m\u001b[0;34m)\u001b[0m \u001b[0;34m-\u001b[0m \u001b[0;36m1\u001b[0m\u001b[0;34m,\u001b[0m \u001b[0mX\u001b[0m\u001b[0;34m[\u001b[0m\u001b[0;34m\"leia_organa\"\u001b[0m\u001b[0;34m]\u001b[0m\u001b[0;34m.\u001b[0m\u001b[0mmax\u001b[0m\u001b[0;34m(\u001b[0m\u001b[0;34m)\u001b[0m \u001b[0;34m+\u001b[0m \u001b[0;36m1\u001b[0m\u001b[0;34m\u001b[0m\u001b[0;34m\u001b[0m\u001b[0m\n\u001b[1;32m     12\u001b[0m \u001b[0mxx\u001b[0m\u001b[0;34m,\u001b[0m \u001b[0myy\u001b[0m \u001b[0;34m=\u001b[0m \u001b[0mnp\u001b[0m\u001b[0;34m.\u001b[0m\u001b[0mmeshgrid\u001b[0m\u001b[0;34m(\u001b[0m\u001b[0mnp\u001b[0m\u001b[0;34m.\u001b[0m\u001b[0marange\u001b[0m\u001b[0;34m(\u001b[0m\u001b[0mx_min\u001b[0m\u001b[0;34m,\u001b[0m \u001b[0mx_max\u001b[0m\u001b[0;34m,\u001b[0m \u001b[0;36m0.01\u001b[0m\u001b[0;34m)\u001b[0m\u001b[0;34m,\u001b[0m \u001b[0mnp\u001b[0m\u001b[0;34m.\u001b[0m\u001b[0marange\u001b[0m\u001b[0;34m(\u001b[0m\u001b[0my_min\u001b[0m\u001b[0;34m,\u001b[0m \u001b[0my_max\u001b[0m\u001b[0;34m,\u001b[0m \u001b[0;36m0.01\u001b[0m\u001b[0;34m)\u001b[0m\u001b[0;34m)\u001b[0m\u001b[0;34m\u001b[0m\u001b[0;34m\u001b[0m\u001b[0m\n\u001b[0;32m---> 13\u001b[0;31m \u001b[0mZ\u001b[0m \u001b[0;34m=\u001b[0m \u001b[0mlogreg\u001b[0m\u001b[0;34m.\u001b[0m\u001b[0mpredict\u001b[0m\u001b[0;34m(\u001b[0m\u001b[0mnp\u001b[0m\u001b[0;34m.\u001b[0m\u001b[0mc_\u001b[0m\u001b[0;34m[\u001b[0m\u001b[0mxx\u001b[0m\u001b[0;34m.\u001b[0m\u001b[0mravel\u001b[0m\u001b[0;34m(\u001b[0m\u001b[0;34m)\u001b[0m\u001b[0;34m,\u001b[0m \u001b[0myy\u001b[0m\u001b[0;34m.\u001b[0m\u001b[0mravel\u001b[0m\u001b[0;34m(\u001b[0m\u001b[0;34m)\u001b[0m\u001b[0;34m]\u001b[0m\u001b[0;34m)\u001b[0m\u001b[0;34m\u001b[0m\u001b[0;34m\u001b[0m\u001b[0m\n\u001b[0m\u001b[1;32m     14\u001b[0m \u001b[0mZ\u001b[0m \u001b[0;34m=\u001b[0m \u001b[0mZ\u001b[0m\u001b[0;34m.\u001b[0m\u001b[0mreshape\u001b[0m\u001b[0;34m(\u001b[0m\u001b[0mxx\u001b[0m\u001b[0;34m.\u001b[0m\u001b[0mshape\u001b[0m\u001b[0;34m)\u001b[0m\u001b[0;34m\u001b[0m\u001b[0;34m\u001b[0m\u001b[0m\n\u001b[1;32m     15\u001b[0m \u001b[0mplt\u001b[0m\u001b[0;34m.\u001b[0m\u001b[0mcontourf\u001b[0m\u001b[0;34m(\u001b[0m\u001b[0mxx\u001b[0m\u001b[0;34m,\u001b[0m \u001b[0myy\u001b[0m\u001b[0;34m,\u001b[0m \u001b[0mZ\u001b[0m\u001b[0;34m,\u001b[0m \u001b[0malpha\u001b[0m\u001b[0;34m=\u001b[0m\u001b[0;36m0.3\u001b[0m\u001b[0;34m,\u001b[0m \u001b[0mcmap\u001b[0m\u001b[0;34m=\u001b[0m\u001b[0mplt\u001b[0m\u001b[0;34m.\u001b[0m\u001b[0mcm\u001b[0m\u001b[0;34m.\u001b[0m\u001b[0mPaired\u001b[0m\u001b[0;34m)\u001b[0m\u001b[0;34m\u001b[0m\u001b[0;34m\u001b[0m\u001b[0m\n",
            "\u001b[0;32m/usr/local/lib/python3.10/dist-packages/sklearn/linear_model/_base.py\u001b[0m in \u001b[0;36mpredict\u001b[0;34m(self, X)\u001b[0m\n\u001b[1;32m    417\u001b[0m         \"\"\"\n\u001b[1;32m    418\u001b[0m         \u001b[0mxp\u001b[0m\u001b[0;34m,\u001b[0m \u001b[0m_\u001b[0m \u001b[0;34m=\u001b[0m \u001b[0mget_namespace\u001b[0m\u001b[0;34m(\u001b[0m\u001b[0mX\u001b[0m\u001b[0;34m)\u001b[0m\u001b[0;34m\u001b[0m\u001b[0;34m\u001b[0m\u001b[0m\n\u001b[0;32m--> 419\u001b[0;31m         \u001b[0mscores\u001b[0m \u001b[0;34m=\u001b[0m \u001b[0mself\u001b[0m\u001b[0;34m.\u001b[0m\u001b[0mdecision_function\u001b[0m\u001b[0;34m(\u001b[0m\u001b[0mX\u001b[0m\u001b[0;34m)\u001b[0m\u001b[0;34m\u001b[0m\u001b[0;34m\u001b[0m\u001b[0m\n\u001b[0m\u001b[1;32m    420\u001b[0m         \u001b[0;32mif\u001b[0m \u001b[0mlen\u001b[0m\u001b[0;34m(\u001b[0m\u001b[0mscores\u001b[0m\u001b[0;34m.\u001b[0m\u001b[0mshape\u001b[0m\u001b[0;34m)\u001b[0m \u001b[0;34m==\u001b[0m \u001b[0;36m1\u001b[0m\u001b[0;34m:\u001b[0m\u001b[0;34m\u001b[0m\u001b[0;34m\u001b[0m\u001b[0m\n\u001b[1;32m    421\u001b[0m             \u001b[0mindices\u001b[0m \u001b[0;34m=\u001b[0m \u001b[0mxp\u001b[0m\u001b[0;34m.\u001b[0m\u001b[0mastype\u001b[0m\u001b[0;34m(\u001b[0m\u001b[0mscores\u001b[0m \u001b[0;34m>\u001b[0m \u001b[0;36m0\u001b[0m\u001b[0;34m,\u001b[0m \u001b[0mint\u001b[0m\u001b[0;34m)\u001b[0m\u001b[0;34m\u001b[0m\u001b[0;34m\u001b[0m\u001b[0m\n",
            "\u001b[0;32m/usr/local/lib/python3.10/dist-packages/sklearn/linear_model/_base.py\u001b[0m in \u001b[0;36mdecision_function\u001b[0;34m(self, X)\u001b[0m\n\u001b[1;32m    398\u001b[0m         \u001b[0mxp\u001b[0m\u001b[0;34m,\u001b[0m \u001b[0m_\u001b[0m \u001b[0;34m=\u001b[0m \u001b[0mget_namespace\u001b[0m\u001b[0;34m(\u001b[0m\u001b[0mX\u001b[0m\u001b[0;34m)\u001b[0m\u001b[0;34m\u001b[0m\u001b[0;34m\u001b[0m\u001b[0m\n\u001b[1;32m    399\u001b[0m \u001b[0;34m\u001b[0m\u001b[0m\n\u001b[0;32m--> 400\u001b[0;31m         \u001b[0mX\u001b[0m \u001b[0;34m=\u001b[0m \u001b[0mself\u001b[0m\u001b[0;34m.\u001b[0m\u001b[0m_validate_data\u001b[0m\u001b[0;34m(\u001b[0m\u001b[0mX\u001b[0m\u001b[0;34m,\u001b[0m \u001b[0maccept_sparse\u001b[0m\u001b[0;34m=\u001b[0m\u001b[0;34m\"csr\"\u001b[0m\u001b[0;34m,\u001b[0m \u001b[0mreset\u001b[0m\u001b[0;34m=\u001b[0m\u001b[0;32mFalse\u001b[0m\u001b[0;34m)\u001b[0m\u001b[0;34m\u001b[0m\u001b[0;34m\u001b[0m\u001b[0m\n\u001b[0m\u001b[1;32m    401\u001b[0m         \u001b[0mscores\u001b[0m \u001b[0;34m=\u001b[0m \u001b[0msafe_sparse_dot\u001b[0m\u001b[0;34m(\u001b[0m\u001b[0mX\u001b[0m\u001b[0;34m,\u001b[0m \u001b[0mself\u001b[0m\u001b[0;34m.\u001b[0m\u001b[0mcoef_\u001b[0m\u001b[0;34m.\u001b[0m\u001b[0mT\u001b[0m\u001b[0;34m,\u001b[0m \u001b[0mdense_output\u001b[0m\u001b[0;34m=\u001b[0m\u001b[0;32mTrue\u001b[0m\u001b[0;34m)\u001b[0m \u001b[0;34m+\u001b[0m \u001b[0mself\u001b[0m\u001b[0;34m.\u001b[0m\u001b[0mintercept_\u001b[0m\u001b[0;34m\u001b[0m\u001b[0;34m\u001b[0m\u001b[0m\n\u001b[1;32m    402\u001b[0m         \u001b[0;32mreturn\u001b[0m \u001b[0mxp\u001b[0m\u001b[0;34m.\u001b[0m\u001b[0mreshape\u001b[0m\u001b[0;34m(\u001b[0m\u001b[0mscores\u001b[0m\u001b[0;34m,\u001b[0m \u001b[0;34m-\u001b[0m\u001b[0;36m1\u001b[0m\u001b[0;34m)\u001b[0m \u001b[0;32mif\u001b[0m \u001b[0mscores\u001b[0m\u001b[0;34m.\u001b[0m\u001b[0mshape\u001b[0m\u001b[0;34m[\u001b[0m\u001b[0;36m1\u001b[0m\u001b[0;34m]\u001b[0m \u001b[0;34m==\u001b[0m \u001b[0;36m1\u001b[0m \u001b[0;32melse\u001b[0m \u001b[0mscores\u001b[0m\u001b[0;34m\u001b[0m\u001b[0;34m\u001b[0m\u001b[0m\n",
            "\u001b[0;32m/usr/local/lib/python3.10/dist-packages/sklearn/base.py\u001b[0m in \u001b[0;36m_validate_data\u001b[0;34m(self, X, y, reset, validate_separately, **check_params)\u001b[0m\n\u001b[1;32m    586\u001b[0m \u001b[0;34m\u001b[0m\u001b[0m\n\u001b[1;32m    587\u001b[0m         \u001b[0;32mif\u001b[0m \u001b[0;32mnot\u001b[0m \u001b[0mno_val_X\u001b[0m \u001b[0;32mand\u001b[0m \u001b[0mcheck_params\u001b[0m\u001b[0;34m.\u001b[0m\u001b[0mget\u001b[0m\u001b[0;34m(\u001b[0m\u001b[0;34m\"ensure_2d\"\u001b[0m\u001b[0;34m,\u001b[0m \u001b[0;32mTrue\u001b[0m\u001b[0;34m)\u001b[0m\u001b[0;34m:\u001b[0m\u001b[0;34m\u001b[0m\u001b[0;34m\u001b[0m\u001b[0m\n\u001b[0;32m--> 588\u001b[0;31m             \u001b[0mself\u001b[0m\u001b[0;34m.\u001b[0m\u001b[0m_check_n_features\u001b[0m\u001b[0;34m(\u001b[0m\u001b[0mX\u001b[0m\u001b[0;34m,\u001b[0m \u001b[0mreset\u001b[0m\u001b[0;34m=\u001b[0m\u001b[0mreset\u001b[0m\u001b[0;34m)\u001b[0m\u001b[0;34m\u001b[0m\u001b[0;34m\u001b[0m\u001b[0m\n\u001b[0m\u001b[1;32m    589\u001b[0m \u001b[0;34m\u001b[0m\u001b[0m\n\u001b[1;32m    590\u001b[0m         \u001b[0;32mreturn\u001b[0m \u001b[0mout\u001b[0m\u001b[0;34m\u001b[0m\u001b[0;34m\u001b[0m\u001b[0m\n",
            "\u001b[0;32m/usr/local/lib/python3.10/dist-packages/sklearn/base.py\u001b[0m in \u001b[0;36m_check_n_features\u001b[0;34m(self, X, reset)\u001b[0m\n\u001b[1;32m    387\u001b[0m \u001b[0;34m\u001b[0m\u001b[0m\n\u001b[1;32m    388\u001b[0m         \u001b[0;32mif\u001b[0m \u001b[0mn_features\u001b[0m \u001b[0;34m!=\u001b[0m \u001b[0mself\u001b[0m\u001b[0;34m.\u001b[0m\u001b[0mn_features_in_\u001b[0m\u001b[0;34m:\u001b[0m\u001b[0;34m\u001b[0m\u001b[0;34m\u001b[0m\u001b[0m\n\u001b[0;32m--> 389\u001b[0;31m             raise ValueError(\n\u001b[0m\u001b[1;32m    390\u001b[0m                 \u001b[0;34mf\"X has {n_features} features, but {self.__class__.__name__} \"\u001b[0m\u001b[0;34m\u001b[0m\u001b[0;34m\u001b[0m\u001b[0m\n\u001b[1;32m    391\u001b[0m                 \u001b[0;34mf\"is expecting {self.n_features_in_} features as input.\"\u001b[0m\u001b[0;34m\u001b[0m\u001b[0;34m\u001b[0m\u001b[0m\n",
            "\u001b[0;31mValueError\u001b[0m: X has 2 features, but LogisticRegression is expecting 34 features as input."
          ]
        },
        {
          "output_type": "display_data",
          "data": {
            "text/plain": [
              "<Figure size 640x480 with 1 Axes>"
            ],
            "image/png": "[encoded data removed]"
          },
          "metadata": {}
        }
      ]
    }
  ]
}